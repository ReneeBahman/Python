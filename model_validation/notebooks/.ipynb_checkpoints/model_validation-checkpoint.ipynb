{
 "cells": [
  {
   "cell_type": "markdown",
   "id": "39f6970a",
   "metadata": {},
   "source": [
    "## 0. Environment check\n",
    "We confirm the notebook is using the project's virtual environment (`.venv`).  \n",
    "If the path below does not point into `model_validation/.venv`, select the correct kernel."
   ]
  },
  {
   "cell_type": "code",
   "execution_count": 14,
   "id": "d13edd8c",
   "metadata": {},
   "outputs": [
    {
     "name": "stdout",
     "output_type": "stream",
     "text": [
      "c:\\Users\\Renee\\Documents\\Python\\model_validation\\.venv\\Scripts\\python.exe\n"
     ]
    }
   ],
   "source": [
    "import sys\n",
    "print(sys.executable)\n"
   ]
  },
  {
   "cell_type": "markdown",
   "id": "faca11ce",
   "metadata": {},
   "source": [
    "If the path ends with `model_validation/.venv/Scripts/python.exe`, we're good.  \n",
    "Otherwise: Kernel → Select → pick the `.venv` interpreter.\n",
    "\n"
   ]
  },
  {
   "cell_type": "markdown",
   "id": "a58e84be",
   "metadata": {},
   "source": [
    "## 1. Setup and data load\n",
    "Import core libraries and load the synthetic dataset we generated.  \n",
    "We do a quick size + target-rate check and peek at the first rows.\n"
   ]
  },
  {
   "cell_type": "code",
   "execution_count": null,
   "id": "fec23dca",
   "metadata": {},
   "outputs": [
    {
     "name": "stdout",
     "output_type": "stream",
     "text": [
      "Shape: (900000, 9)\n",
      "Default rate: 7.02%\n"
     ]
    },
    {
     "data": {
      "text/html": [
       "<div>\n",
       "<style scoped>\n",
       "    .dataframe tbody tr th:only-of-type {\n",
       "        vertical-align: middle;\n",
       "    }\n",
       "\n",
       "    .dataframe tbody tr th {\n",
       "        vertical-align: top;\n",
       "    }\n",
       "\n",
       "    .dataframe thead th {\n",
       "        text-align: right;\n",
       "    }\n",
       "</style>\n",
       "<table border=\"1\" class=\"dataframe\">\n",
       "  <thead>\n",
       "    <tr style=\"text-align: right;\">\n",
       "      <th></th>\n",
       "      <th>age</th>\n",
       "      <th>income</th>\n",
       "      <th>loan_amount</th>\n",
       "      <th>loan_term</th>\n",
       "      <th>credit_score</th>\n",
       "      <th>employment_status</th>\n",
       "      <th>loan_purpose</th>\n",
       "      <th>region</th>\n",
       "      <th>default</th>\n",
       "    </tr>\n",
       "  </thead>\n",
       "  <tbody>\n",
       "    <tr>\n",
       "      <th>0</th>\n",
       "      <td>59</td>\n",
       "      <td>6216</td>\n",
       "      <td>1194</td>\n",
       "      <td>36</td>\n",
       "      <td>641</td>\n",
       "      <td>Unemployed</td>\n",
       "      <td>Home</td>\n",
       "      <td>Tartu</td>\n",
       "      <td>0</td>\n",
       "    </tr>\n",
       "    <tr>\n",
       "      <th>1</th>\n",
       "      <td>49</td>\n",
       "      <td>2474</td>\n",
       "      <td>6849</td>\n",
       "      <td>12</td>\n",
       "      <td>724</td>\n",
       "      <td>Self-employed</td>\n",
       "      <td>Home</td>\n",
       "      <td>Tartu</td>\n",
       "      <td>0</td>\n",
       "    </tr>\n",
       "    <tr>\n",
       "      <th>2</th>\n",
       "      <td>35</td>\n",
       "      <td>2686</td>\n",
       "      <td>16405</td>\n",
       "      <td>36</td>\n",
       "      <td>423</td>\n",
       "      <td>Employed</td>\n",
       "      <td>Car</td>\n",
       "      <td>Narva</td>\n",
       "      <td>0</td>\n",
       "    </tr>\n",
       "    <tr>\n",
       "      <th>3</th>\n",
       "      <td>63</td>\n",
       "      <td>4434</td>\n",
       "      <td>21969</td>\n",
       "      <td>36</td>\n",
       "      <td>527</td>\n",
       "      <td>Employed</td>\n",
       "      <td>Small Business</td>\n",
       "      <td>Narva</td>\n",
       "      <td>0</td>\n",
       "    </tr>\n",
       "    <tr>\n",
       "      <th>4</th>\n",
       "      <td>28</td>\n",
       "      <td>2320</td>\n",
       "      <td>31628</td>\n",
       "      <td>24</td>\n",
       "      <td>646</td>\n",
       "      <td>Employed</td>\n",
       "      <td>Other</td>\n",
       "      <td>Pärnu</td>\n",
       "      <td>0</td>\n",
       "    </tr>\n",
       "  </tbody>\n",
       "</table>\n",
       "</div>"
      ],
      "text/plain": [
       "   age  income  loan_amount  loan_term  credit_score employment_status  \\\n",
       "0   59    6216         1194         36           641        Unemployed   \n",
       "1   49    2474         6849         12           724     Self-employed   \n",
       "2   35    2686        16405         36           423          Employed   \n",
       "3   63    4434        21969         36           527          Employed   \n",
       "4   28    2320        31628         24           646          Employed   \n",
       "\n",
       "     loan_purpose region  default  \n",
       "0            Home  Tartu        0  \n",
       "1            Home  Tartu        0  \n",
       "2             Car  Narva        0  \n",
       "3  Small Business  Narva        0  \n",
       "4           Other  Pärnu        0  "
      ]
     },
     "execution_count": 10,
     "metadata": {},
     "output_type": "execute_result"
    },
    {
     "ename": "",
     "evalue": "",
     "output_type": "error",
     "traceback": [
      "\u001b[1;31mnotebook controller is DISPOSED. \n",
      "\u001b[1;31mView Jupyter <a href='command:jupyter.viewOutput'>log</a> for further details."
     ]
    }
   ],
   "source": [
    "import pandas as pd\n",
    "import matplotlib.pyplot as plt\n",
    "import seaborn as sns\n",
    "\n",
    "df = pd.read_csv(\"../data/sample_data.csv\")\n",
    "\n",
    "print(\"Shape:\", df.shape)\n",
    "print(\"Default rate: {:.2f}%\".format(df[\"default\"].mean()*100))\n",
    "df.head()\n"
   ]
  },
  {
   "cell_type": "markdown",
   "id": "7fdc0c72",
   "metadata": {},
   "source": [
    "We expect ~900k rows, 9 columns, and a ~7% default rate.  \n",
    "A quick glance at the head confirms the expected schema.\n"
   ]
  },
  {
   "cell_type": "markdown",
   "id": "1f1691ca",
   "metadata": {},
   "source": [
    "## 2. Data overview\n",
    "We inspect types, basic statistics, and missing values to ensure cleanliness.\n"
   ]
  },
  {
   "cell_type": "code",
   "execution_count": null,
   "id": "116efd38",
   "metadata": {},
   "outputs": [
    {
     "name": "stdout",
     "output_type": "stream",
     "text": [
      "<class 'pandas.core.frame.DataFrame'>\n",
      "RangeIndex: 900000 entries, 0 to 899999\n",
      "Data columns (total 9 columns):\n",
      " #   Column             Non-Null Count   Dtype \n",
      "---  ------             --------------   ----- \n",
      " 0   age                900000 non-null  int64 \n",
      " 1   income             900000 non-null  int64 \n",
      " 2   loan_amount        900000 non-null  int64 \n",
      " 3   loan_term          900000 non-null  int64 \n",
      " 4   credit_score       900000 non-null  int64 \n",
      " 5   employment_status  900000 non-null  object\n",
      " 6   loan_purpose       900000 non-null  object\n",
      " 7   region             900000 non-null  object\n",
      " 8   default            900000 non-null  int64 \n",
      "dtypes: int64(6), object(3)\n",
      "memory usage: 61.8+ MB\n"
     ]
    },
    {
     "data": {
      "text/html": [
       "<div>\n",
       "<style scoped>\n",
       "    .dataframe tbody tr th:only-of-type {\n",
       "        vertical-align: middle;\n",
       "    }\n",
       "\n",
       "    .dataframe tbody tr th {\n",
       "        vertical-align: top;\n",
       "    }\n",
       "\n",
       "    .dataframe thead th {\n",
       "        text-align: right;\n",
       "    }\n",
       "</style>\n",
       "<table border=\"1\" class=\"dataframe\">\n",
       "  <thead>\n",
       "    <tr style=\"text-align: right;\">\n",
       "      <th></th>\n",
       "      <th>count</th>\n",
       "      <th>mean</th>\n",
       "      <th>std</th>\n",
       "      <th>min</th>\n",
       "      <th>25%</th>\n",
       "      <th>50%</th>\n",
       "      <th>75%</th>\n",
       "      <th>max</th>\n",
       "    </tr>\n",
       "  </thead>\n",
       "  <tbody>\n",
       "    <tr>\n",
       "      <th>age</th>\n",
       "      <td>900000.0</td>\n",
       "      <td>45.007193</td>\n",
       "      <td>14.138675</td>\n",
       "      <td>21.0</td>\n",
       "      <td>33.0</td>\n",
       "      <td>45.0</td>\n",
       "      <td>57.0</td>\n",
       "      <td>69.0</td>\n",
       "    </tr>\n",
       "    <tr>\n",
       "      <th>income</th>\n",
       "      <td>900000.0</td>\n",
       "      <td>4424.152980</td>\n",
       "      <td>2222.525833</td>\n",
       "      <td>562.0</td>\n",
       "      <td>2569.0</td>\n",
       "      <td>4260.0</td>\n",
       "      <td>6061.0</td>\n",
       "      <td>10491.0</td>\n",
       "    </tr>\n",
       "    <tr>\n",
       "      <th>loan_amount</th>\n",
       "      <td>900000.0</td>\n",
       "      <td>20502.658197</td>\n",
       "      <td>11254.334116</td>\n",
       "      <td>1000.0</td>\n",
       "      <td>10749.0</td>\n",
       "      <td>20526.0</td>\n",
       "      <td>30237.0</td>\n",
       "      <td>39999.0</td>\n",
       "    </tr>\n",
       "    <tr>\n",
       "      <th>loan_term</th>\n",
       "      <td>900000.0</td>\n",
       "      <td>38.408827</td>\n",
       "      <td>14.989598</td>\n",
       "      <td>12.0</td>\n",
       "      <td>24.0</td>\n",
       "      <td>36.0</td>\n",
       "      <td>48.0</td>\n",
       "      <td>60.0</td>\n",
       "    </tr>\n",
       "    <tr>\n",
       "      <th>credit_score</th>\n",
       "      <td>900000.0</td>\n",
       "      <td>575.042564</td>\n",
       "      <td>159.013683</td>\n",
       "      <td>300.0</td>\n",
       "      <td>437.0</td>\n",
       "      <td>575.0</td>\n",
       "      <td>713.0</td>\n",
       "      <td>850.0</td>\n",
       "    </tr>\n",
       "    <tr>\n",
       "      <th>default</th>\n",
       "      <td>900000.0</td>\n",
       "      <td>0.070188</td>\n",
       "      <td>0.255463</td>\n",
       "      <td>0.0</td>\n",
       "      <td>0.0</td>\n",
       "      <td>0.0</td>\n",
       "      <td>0.0</td>\n",
       "      <td>1.0</td>\n",
       "    </tr>\n",
       "  </tbody>\n",
       "</table>\n",
       "</div>"
      ],
      "text/plain": [
       "                 count          mean           std     min      25%      50%  \\\n",
       "age           900000.0     45.007193     14.138675    21.0     33.0     45.0   \n",
       "income        900000.0   4424.152980   2222.525833   562.0   2569.0   4260.0   \n",
       "loan_amount   900000.0  20502.658197  11254.334116  1000.0  10749.0  20526.0   \n",
       "loan_term     900000.0     38.408827     14.989598    12.0     24.0     36.0   \n",
       "credit_score  900000.0    575.042564    159.013683   300.0    437.0    575.0   \n",
       "default       900000.0      0.070188      0.255463     0.0      0.0      0.0   \n",
       "\n",
       "                  75%      max  \n",
       "age              57.0     69.0  \n",
       "income         6061.0  10491.0  \n",
       "loan_amount   30237.0  39999.0  \n",
       "loan_term        48.0     60.0  \n",
       "credit_score    713.0    850.0  \n",
       "default           0.0      1.0  "
      ]
     },
     "metadata": {},
     "output_type": "display_data"
    },
    {
     "data": {
      "text/plain": [
       "age                  0\n",
       "income               0\n",
       "loan_amount          0\n",
       "loan_term            0\n",
       "credit_score         0\n",
       "employment_status    0\n",
       "loan_purpose         0\n",
       "region               0\n",
       "default              0\n",
       "dtype: int64"
      ]
     },
     "execution_count": 11,
     "metadata": {},
     "output_type": "execute_result"
    },
    {
     "ename": "",
     "evalue": "",
     "output_type": "error",
     "traceback": [
      "\u001b[1;31mnotebook controller is DISPOSED. \n",
      "\u001b[1;31mView Jupyter <a href='command:jupyter.viewOutput'>log</a> for further details."
     ]
    }
   ],
   "source": [
    "df.info()\n",
    "display(df.describe().T)\n",
    "df.isna().sum()\n"
   ]
  },
  {
   "cell_type": "markdown",
   "id": "d6f9ed5e",
   "metadata": {},
   "source": [
    "All columns are non-null. Numeric ranges look reasonable; categoricals are strings (`object`).  \n",
    "No imputation needed at this stage.\n"
   ]
  },
  {
   "cell_type": "markdown",
   "id": "329c9bf4",
   "metadata": {},
   "source": [
    "## 3. Target balance\n",
    "Check whether `default` is imbalanced. Strong imbalance can affect model training and metrics.\n"
   ]
  },
  {
   "cell_type": "code",
   "execution_count": null,
   "id": "04d91342",
   "metadata": {},
   "outputs": [
    {
     "data": {
      "image/png": "[encoded data removed]",
      "text/plain": [
       "<Figure size 640x480 with 1 Axes>"
      ]
     },
     "metadata": {},
     "output_type": "display_data"
    },
    {
     "name": "stdout",
     "output_type": "stream",
     "text": [
      "default\n",
      "0    92.98\n",
      "1     7.02\n",
      "Name: proportion, dtype: float64\n"
     ]
    },
    {
     "ename": "",
     "evalue": "",
     "output_type": "error",
     "traceback": [
      "\u001b[1;31mnotebook controller is DISPOSED. \n",
      "\u001b[1;31mView Jupyter <a href='command:jupyter.viewOutput'>log</a> for further details."
     ]
    }
   ],
   "source": [
    "ax = (df[\"default\"].value_counts(normalize=True)\n",
    "      .sort_index()\n",
    "      .mul(100)\n",
    "      .plot(kind=\"bar\"))\n",
    "ax.set_title(\"Default distribution (percentage)\")\n",
    "ax.set_xlabel(\"default (0=paid, 1=default)\")\n",
    "ax.set_ylabel(\"% of portfolio\")\n",
    "plt.show()\n",
    "\n",
    "print(df[\"default\"].value_counts(normalize=True).mul(100).round(2))\n"
   ]
  },
  {
   "cell_type": "markdown",
   "id": "b17dd63b",
   "metadata": {},
   "source": [
    "We aim for ~7% defaults (class 1). This is realistic for consumer credit and good for modeling.\n"
   ]
  },
  {
   "cell_type": "markdown",
   "id": "372dc743",
   "metadata": {},
   "source": [
    "## 4. Univariate distributions (numeric)\n",
    "Visualize distributions to spot skewness/outliers and understand scale.\n"
   ]
  },
  {
   "cell_type": "code",
   "execution_count": null,
   "id": "7e9c2f0d",
   "metadata": {},
   "outputs": [
    {
     "data": {
      "image/png": "[encoded data removed]",
      "text/plain": [
       "<Figure size 1200x800 with 4 Axes>"
      ]
     },
     "metadata": {},
     "output_type": "display_data"
    },
    {
     "ename": "",
     "evalue": "",
     "output_type": "error",
     "traceback": [
      "\u001b[1;31mnotebook controller is DISPOSED. \n",
      "\u001b[1;31mView Jupyter <a href='command:jupyter.viewOutput'>log</a> for further details."
     ]
    }
   ],
   "source": [
    "fig, axes = plt.subplots(2, 2, figsize=(12, 8))\n",
    "\n",
    "df[\"age\"].hist(bins=40, ax=axes[0,0]);         axes[0,0].set_title(\"Age\")\n",
    "df[\"income\"].hist(bins=40, ax=axes[0,1]);      axes[0,1].set_title(\"Income\")\n",
    "df[\"loan_amount\"].hist(bins=40, ax=axes[1,0]); axes[1,0].set_title(\"Loan amount\")\n",
    "df[\"credit_score\"].hist(bins=40, ax=axes[1,1]);axes[1,1].set_title(\"Credit score\")\n",
    "\n",
    "plt.tight_layout(); plt.show()\n"
   ]
  },
  {
   "cell_type": "markdown",
   "id": "4bcfab89",
   "metadata": {},
   "source": [
    "Distributions look sensible for synthetic data. If we saw extreme spikes or empty ranges, we’d revisit the generator.\n"
   ]
  },
  {
   "cell_type": "markdown",
   "id": "1cb42548",
   "metadata": {},
   "source": [
    "## 5. Default rates by category\n",
    "Group by each categorical feature to see which segments carry higher risk.\n"
   ]
  },
  {
   "cell_type": "code",
   "execution_count": null,
   "id": "a73cbb8c",
   "metadata": {},
   "outputs": [
    {
     "ename": "",
     "evalue": "",
     "output_type": "error",
     "traceback": [
      "\u001b[1;31mnotebook controller is DISPOSED. \n",
      "\u001b[1;31mView Jupyter <a href='command:jupyter.viewOutput'>log</a> for further details."
     ]
    }
   ],
   "source": [
    "cats = [\"employment_status\", \"loan_purpose\", \"region\"]\n",
    "for col in cats:\n",
    "    rate = pd.crosstab(df[col], df[\"default\"], normalize=\"index\")[1].sort_values()\n",
    "    ax = rate.mul(100).plot(kind=\"barh\", figsize=(7, 3), title=f\"Default rate by {col}\")\n",
    "    ax.set_xlabel(\"% default\")\n",
    "    plt.tight_layout()\n",
    "    plt.show()\n"
   ]
  },
  {
   "cell_type": "markdown",
   "id": "565c3ce0",
   "metadata": {},
   "source": [
    "We expect higher risk for *Unemployed* and *Small Business*, and region uplift in Narva by design.  \n",
    "These patterns confirm the data generator is producing intuitive signals.\n"
   ]
  },
  {
   "cell_type": "markdown",
   "id": "217f7e12",
   "metadata": {},
   "source": [
    "## 6. Credit score vs default\n",
    "Lower scores should align with higher default incidence.\n"
   ]
  },
  {
   "cell_type": "code",
   "execution_count": null,
   "id": "3587ecea",
   "metadata": {},
   "outputs": [
    {
     "ename": "",
     "evalue": "",
     "output_type": "error",
     "traceback": [
      "\u001b[1;31mnotebook controller is DISPOSED. \n",
      "\u001b[1;31mView Jupyter <a href='command:jupyter.viewOutput'>log</a> for further details."
     ]
    }
   ],
   "source": [
    "sns.histplot(data=df, x=\"credit_score\", hue=\"default\",\n",
    "             bins=40, stat=\"density\", common_norm=False)\n",
    "plt.title(\"Credit score by default status\")\n",
    "plt.show()\n"
   ]
  },
  {
   "cell_type": "markdown",
   "id": "e5367fbf",
   "metadata": {},
   "source": [
    "Separation between classes across score range indicates useful predictive signal.\n"
   ]
  },
  {
   "cell_type": "markdown",
   "id": "c2306b90",
   "metadata": {},
   "source": [
    "## 7. Correlation analysis (numeric)\n",
    "Quick correlation scan to identify the strongest numerical drivers.\n"
   ]
  },
  {
   "cell_type": "code",
   "execution_count": null,
   "id": "1faa1389",
   "metadata": {},
   "outputs": [
    {
     "ename": "",
     "evalue": "",
     "output_type": "error",
     "traceback": [
      "\u001b[1;31mnotebook controller is DISPOSED. \n",
      "\u001b[1;31mView Jupyter <a href='command:jupyter.viewOutput'>log</a> for further details."
     ]
    }
   ],
   "source": [
    "num_cols = [\"age\", \"income\", \"loan_amount\", \"loan_term\", \"credit_score\", \"default\"]\n",
    "corr = df[num_cols].corr()\n",
    "display(corr[\"default\"].sort_values(ascending=False))\n",
    "\n",
    "plt.figure(figsize=(8,6))\n",
    "sns.heatmap(corr, annot=False, cmap=\"coolwarm\", center=0)\n",
    "plt.title(\"Correlation heatmap (numeric)\")\n",
    "plt.show()\n"
   ]
  },
  {
   "cell_type": "markdown",
   "id": "e4bc3adb",
   "metadata": {},
   "source": [
    "Expect negative correlation between credit_score and default, positive between loan_amount/income ratio (proxy: loan_amount) and default.\n",
    "Correlations are directional hints; model training will capture non-linearities and interactions.\n"
   ]
  },
  {
   "cell_type": "markdown",
   "id": "85f7a7a4",
   "metadata": {},
   "source": [
    "## 8. (Optional) Feature engineering preview\n",
    "Create a simple proxy for leverage: loan_amount / income. This often has strong signal.\n"
   ]
  },
  {
   "cell_type": "code",
   "execution_count": null,
   "id": "8df9e872",
   "metadata": {},
   "outputs": [
    {
     "ename": "",
     "evalue": "",
     "output_type": "error",
     "traceback": [
      "\u001b[1;31mnotebook controller is DISPOSED. \n",
      "\u001b[1;31mView Jupyter <a href='command:jupyter.viewOutput'>log</a> for further details."
     ]
    }
   ],
   "source": [
    "df[\"loan_to_income\"] = df[\"loan_amount\"] / (df[\"income\"] + 1)\n",
    "df[\"loan_to_income\"].describe()\n"
   ]
  },
  {
   "cell_type": "markdown",
   "id": "5128872d",
   "metadata": {},
   "source": [
    "We’ll likely use `loan_to_income`, one-hot encoded categoricals, and scaled numerics for the logistic regression next.\n"
   ]
  }
 ],
 "metadata": {
  "kernelspec": {
   "display_name": ".venv",
   "language": "python",
   "name": "python3"
  },
  "language_info": {
   "codemirror_mode": {
    "name": "ipython",
    "version": 3
   },
   "file_extension": ".py",
   "mimetype": "text/x-python",
   "name": "python",
   "nbconvert_exporter": "python",
   "pygments_lexer": "ipython3",
   "version": "3.13.3"
  }
 },
 "nbformat": 4,
 "nbformat_minor": 5
}
